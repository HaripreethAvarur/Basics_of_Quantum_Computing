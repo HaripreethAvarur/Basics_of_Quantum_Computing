{
 "cells": [
  {
   "cell_type": "markdown",
   "id": "08d9a4b7-f3a2-4018-bb42-38c61533aebe",
   "metadata": {},
   "source": [
    "Write a program to generate the state 1/rt2 (|01> + |10>) (3rd Bell Satate)"
   ]
  },
  {
   "cell_type": "code",
   "execution_count": 2,
   "id": "99f7d18a-c9ca-4fca-9dc7-387c3b8c3c5f",
   "metadata": {},
   "outputs": [
    {
     "name": "stderr",
     "output_type": "stream",
     "text": [
      "<frozen importlib._bootstrap>:219: RuntimeWarning: scipy._lib.messagestream.MessageStream size changed, may indicate binary incompatibility. Expected 56 from C header, got 64 from PyObject\n"
     ]
    }
   ],
   "source": [
    "import numpy as np\n",
    "\n",
    "# Importing standard Qiskit libraries\n",
    "from qiskit import QuantumCircuit, transpile, Aer, IBMQ, QuantumRegister, ClassicalRegister, QuantumCircuit\n",
    "from qiskit.tools.jupyter import *\n",
    "from qiskit.visualization import *\n",
    "from ibm_quantum_widgets import *\n",
    "from qiskit.providers.aer import QasmSimulator\n",
    "import qiskit\n",
    "\n",
    "\n",
    "\n",
    "# Loading your IBM Quantum account(s)\n",
    "provider = IBMQ.load_account()"
   ]
  },
  {
   "cell_type": "code",
   "execution_count": 4,
   "id": "ccea21f0-56ff-45d4-af65-9140451a1d6c",
   "metadata": {},
   "outputs": [
    {
     "name": "stdout",
     "output_type": "stream",
     "text": [
      "     ┌───┐     ┌─┐   \n",
      "q_0: ┤ H ├──■──┤M├───\n",
      "     ├───┤┌─┴─┐└╥┘┌─┐\n",
      "q_1: ┤ X ├┤ X ├─╫─┤M├\n",
      "     └───┘└───┘ ║ └╥┘\n",
      "c_0: ═══════════╩══╬═\n",
      "                   ║ \n",
      "c_1: ══════════════╩═\n",
      "                     \n",
      "Job Status: job has successfully run\n",
      "{'01': 3988, '10': 4204}\n"
     ]
    }
   ],
   "source": [
    "backend=provider.get_backend('ibmq_qasm_simulator')\n",
    "q = qiskit.QuantumRegister(2, 'q')\n",
    "c = qiskit.ClassicalRegister(2, 'c')\n",
    "circuit = qiskit.QuantumCircuit(q,c)\n",
    "\n",
    "circuit.x(q[1]) #Pauli-X gate \n",
    "circuit.h(q[0]) #Hadamard gate\n",
    "circuit.cx(q[0],q[1]) #CNOT gate\n",
    "circuit.measure(q,c) #Qubit Measure\n",
    "\n",
    "print(circuit)\n",
    "\n",
    "job=qiskit.execute(circuit, backend, shots=8192)\n",
    "qiskit.tools.monitor.job_monitor(job)\n",
    "counts = job.result().get_counts()\n",
    "print(counts)"
   ]
  },
  {
   "cell_type": "code",
   "execution_count": null,
   "id": "f857a414-399f-4377-a5a3-d255c91a8f4c",
   "metadata": {},
   "outputs": [],
   "source": []
  }
 ],
 "metadata": {
  "kernelspec": {
   "display_name": "Python 3 (ipykernel)",
   "language": "python",
   "name": "python3"
  },
  "language_info": {
   "codemirror_mode": {
    "name": "ipython",
    "version": 3
   },
   "file_extension": ".py",
   "mimetype": "text/x-python",
   "name": "python",
   "nbconvert_exporter": "python",
   "pygments_lexer": "ipython3",
   "version": "3.8.13"
  },
  "widgets": {
   "application/vnd.jupyter.widget-state+json": {
    "state": {},
    "version_major": 2,
    "version_minor": 0
   }
  }
 },
 "nbformat": 4,
 "nbformat_minor": 5
}
