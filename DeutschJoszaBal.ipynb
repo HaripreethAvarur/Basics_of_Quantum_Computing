{
 "cells": [
  {
   "cell_type": "code",
   "execution_count": 1,
   "id": "b4fcec01-224d-4037-b331-fcf1b953c2f3",
   "metadata": {},
   "outputs": [
    {
     "name": "stderr",
     "output_type": "stream",
     "text": [
      "<frozen importlib._bootstrap>:219: RuntimeWarning: scipy._lib.messagestream.MessageStream size changed, may indicate binary incompatibility. Expected 56 from C header, got 64 from PyObject\n"
     ]
    }
   ],
   "source": [
    "import numpy as np\n",
    "\n",
    "# Importing standard Qiskit libraries\n",
    "from qiskit import QuantumCircuit, transpile, Aer, IBMQ, QuantumRegister, ClassicalRegister, QuantumCircuit\n",
    "from qiskit.tools.jupyter import *\n",
    "from qiskit.visualization import *\n",
    "from ibm_quantum_widgets import *\n",
    "from qiskit.providers.aer import QasmSimulator\n",
    "import qiskit\n",
    "\n",
    "# Loading your IBM Quantum account(s)\n",
    "provider = IBMQ.load_account()"
   ]
  },
  {
   "cell_type": "code",
   "execution_count": 3,
   "id": "d3ff8603-4fa0-4e05-9184-6d606c1ac035",
   "metadata": {},
   "outputs": [],
   "source": [
    "def DeutschJoszaBal():\n",
    "    \n",
    "    #odd parity\n",
    "    q=QuantumRegister(2)\n",
    "    c=ClassicalRegister(2)\n",
    "    qc=QuantumCircuit(q,c)\n",
    "    \n",
    "    qc.i(0)\n",
    "    qc.x(1)\n",
    "    qc.h(0)\n",
    "    qc.h(1)\n",
    "    \n",
    "    qc.barrier()\n",
    "    #Balanced Function f(0)=1, f(1)=0\n",
    "    qc.x(0)\n",
    "    qc.cx(0,1)\n",
    "    qc.x(0)\n",
    "    #balancer end\n",
    "    qc.barrier()\n",
    "    #measurement\n",
    "    qc.h(0)\n",
    "    qc.measure(0,0)\n",
    "    return qc"
   ]
  },
  {
   "cell_type": "code",
   "execution_count": 4,
   "id": "f83e5d2e-1cd5-4ecb-a4d1-d792235c3b0a",
   "metadata": {},
   "outputs": [],
   "source": [
    "qc=DeutschJoszaBal()"
   ]
  },
  {
   "cell_type": "code",
   "execution_count": 5,
   "id": "ab9b8aef-0f07-4211-921e-d1ccbe1e90e8",
   "metadata": {},
   "outputs": [
    {
     "data": {
      "image/png": "[encoded data removed]",
      "text/plain": [
       "<Figure size 641.233x204.68 with 1 Axes>"
      ]
     },
     "execution_count": 5,
     "metadata": {},
     "output_type": "execute_result"
    }
   ],
   "source": [
    "qc.draw()"
   ]
  },
  {
   "cell_type": "code",
   "execution_count": 6,
   "id": "74e504d1-0501-45be-9b9c-735e57b4bd37",
   "metadata": {},
   "outputs": [
    {
     "data": {
      "image/png": "[encoded data removed]",
      "text/plain": [
       "<Figure size 504x360 with 1 Axes>"
      ]
     },
     "execution_count": 6,
     "metadata": {},
     "output_type": "execute_result"
    }
   ],
   "source": [
    "aer_sim = Aer.get_backend('aer_simulator')\n",
    "qobj = qiskit.assemble(qc, aer_sim)\n",
    "results = aer_sim.run(qobj).result()\n",
    "answer = results.get_counts()\n",
    "\n",
    "plot_histogram(answer)"
   ]
  },
  {
   "cell_type": "code",
   "execution_count": null,
   "id": "7bcdb511-eb21-4a0a-b378-d557acf9fe4a",
   "metadata": {},
   "outputs": [],
   "source": []
  }
 ],
 "metadata": {
  "kernelspec": {
   "display_name": "Python 3 (ipykernel)",
   "language": "python",
   "name": "python3"
  },
  "language_info": {
   "codemirror_mode": {
    "name": "ipython",
    "version": 3
   },
   "file_extension": ".py",
   "mimetype": "text/x-python",
   "name": "python",
   "nbconvert_exporter": "python",
   "pygments_lexer": "ipython3",
   "version": "3.8.13"
  },
  "widgets": {
   "application/vnd.jupyter.widget-state+json": {
    "state": {
     "10efc83c78dd4d3a81b9aca0552e3acc": {
      "model_module": "@jupyter-widgets/controls",
      "model_module_version": "1.5.0",
      "model_name": "DescriptionStyleModel",
      "state": {
       "description_width": ""
      }
     },
     "15f791e11d87416eb0554b43b8cb1804": {
      "model_module": "@jupyter-widgets/controls",
      "model_module_version": "1.5.0",
      "model_name": "GridBoxModel",
      "state": {
       "children": [
        "IPY_MODEL_c211c6eb12974a1c9d6194a07814099c"
       ],
       "layout": "IPY_MODEL_6f5d713c4e7147039722e7ad58cdf386"
      }
     },
     "1d391a58b2d544ebae9c5b65a8db6f98": {
      "model_module": "@jupyter-widgets/controls",
      "model_module_version": "1.5.0",
      "model_name": "DescriptionStyleModel",
      "state": {
       "description_width": ""
      }
     },
     "259b1d3c71704a95898ab7c7db190da0": {
      "model_module": "@jupyter-widgets/base",
      "model_module_version": "1.2.0",
      "model_name": "LayoutModel",
      "state": {
       "width": "145px"
      }
     },
     "2ced87cefce145ba8074cd2f0dadb344": {
      "model_module": "@jupyter-widgets/controls",
      "model_module_version": "1.5.0",
      "model_name": "HTMLModel",
      "state": {
       "layout": "IPY_MODEL_e6d8cae1b118430c94640dc100d8a8b6",
       "style": "IPY_MODEL_edbb20c3cd6e4c49bc852aeb22110055",
       "value": "<h5>Job ID</h5>"
      }
     },
     "37511d1082014c48bac0182c77f1e9af": {
      "model_module": "@jupyter-widgets/controls",
      "model_module_version": "1.5.0",
      "model_name": "DescriptionStyleModel",
      "state": {
       "description_width": ""
      }
     },
     "5fab6b67e6e4428fbaa38395ba8e1869": {
      "model_module": "@jupyter-widgets/controls",
      "model_module_version": "1.5.0",
      "model_name": "ButtonStyleModel",
      "state": {}
     },
     "6f5d713c4e7147039722e7ad58cdf386": {
      "model_module": "@jupyter-widgets/base",
      "model_module_version": "1.2.0",
      "model_name": "LayoutModel",
      "state": {
       "grid_template_areas": "\n                                       \". . . . right \"\n                                        ",
       "grid_template_columns": "20% 20% 20% 20% 20%",
       "width": "100%"
      }
     },
     "7e052a868741464696f96e91ad47e4fe": {
      "model_module": "@jupyter-widgets/base",
      "model_module_version": "1.2.0",
      "model_name": "LayoutModel",
      "state": {}
     },
     "7f72086208f54bc2aec0ce62a817f23a": {
      "model_module": "@jupyter-widgets/controls",
      "model_module_version": "1.5.0",
      "model_name": "DescriptionStyleModel",
      "state": {
       "description_width": ""
      }
     },
     "8146c6a03aaa4f4597d1aa964a488683": {
      "model_module": "@jupyter-widgets/base",
      "model_module_version": "1.2.0",
      "model_name": "LayoutModel",
      "state": {
       "width": "95px"
      }
     },
     "85e9ebed197f49e695f77245248ff123": {
      "model_module": "@jupyter-widgets/base",
      "model_module_version": "1.2.0",
      "model_name": "LayoutModel",
      "state": {
       "margin": "0px 0px 0px 37px",
       "width": "600px"
      }
     },
     "a761677ca9044a9299db78ddb59f9ffe": {
      "model_module": "@jupyter-widgets/controls",
      "model_module_version": "1.5.0",
      "model_name": "DescriptionStyleModel",
      "state": {
       "description_width": ""
      }
     },
     "adc86245a24e43729d6d5b0b4b06e520": {
      "model_module": "@jupyter-widgets/controls",
      "model_module_version": "1.5.0",
      "model_name": "HTMLModel",
      "state": {
       "layout": "IPY_MODEL_259b1d3c71704a95898ab7c7db190da0",
       "style": "IPY_MODEL_1d391a58b2d544ebae9c5b65a8db6f98",
       "value": "<h5>Backend</h5>"
      }
     },
     "afa7757a406240568315e0deae611d3e": {
      "model_module": "@jupyter-widgets/base",
      "model_module_version": "1.2.0",
      "model_name": "LayoutModel",
      "state": {
       "width": "70px"
      }
     },
     "c211c6eb12974a1c9d6194a07814099c": {
      "model_module": "@jupyter-widgets/controls",
      "model_module_version": "1.5.0",
      "model_name": "ButtonModel",
      "state": {
       "button_style": "primary",
       "description": "Clear",
       "layout": "IPY_MODEL_e373ace38d104b70994035e595d34c78",
       "style": "IPY_MODEL_5fab6b67e6e4428fbaa38395ba8e1869"
      }
     },
     "daabb562be134a6382c50588bf5a562f": {
      "model_module": "@jupyter-widgets/controls",
      "model_module_version": "1.5.0",
      "model_name": "HBoxModel",
      "state": {
       "children": [
        "IPY_MODEL_2ced87cefce145ba8074cd2f0dadb344",
        "IPY_MODEL_adc86245a24e43729d6d5b0b4b06e520",
        "IPY_MODEL_e85f4f56cef743778650a9f3ae6463c5",
        "IPY_MODEL_efec7c0b43c34140a091a48c08fa4a37",
        "IPY_MODEL_e81707eb63fc41e784edaec02c46d9bc"
       ],
       "layout": "IPY_MODEL_85e9ebed197f49e695f77245248ff123"
      }
     },
     "e18fea77ce1e4677ac0c516c8ba692e8": {
      "model_module": "@jupyter-widgets/controls",
      "model_module_version": "1.5.0",
      "model_name": "HTMLModel",
      "state": {
       "layout": "IPY_MODEL_f4efaa1f1bd5421f826721c18e19e4dd",
       "style": "IPY_MODEL_37511d1082014c48bac0182c77f1e9af",
       "value": "<p style='font-family: IBM Plex Sans, Arial, Helvetica, sans-serif; font-size: 20px; font-weight: medium;'>Circuit Properties</p>"
      }
     },
     "e373ace38d104b70994035e595d34c78": {
      "model_module": "@jupyter-widgets/base",
      "model_module_version": "1.2.0",
      "model_name": "LayoutModel",
      "state": {
       "grid_area": "right",
       "padding": "0px 0px 0px 0px",
       "width": "70px"
      }
     },
     "e6d8cae1b118430c94640dc100d8a8b6": {
      "model_module": "@jupyter-widgets/base",
      "model_module_version": "1.2.0",
      "model_name": "LayoutModel",
      "state": {
       "width": "190px"
      }
     },
     "e81707eb63fc41e784edaec02c46d9bc": {
      "model_module": "@jupyter-widgets/controls",
      "model_module_version": "1.5.0",
      "model_name": "HTMLModel",
      "state": {
       "layout": "IPY_MODEL_7e052a868741464696f96e91ad47e4fe",
       "style": "IPY_MODEL_7f72086208f54bc2aec0ce62a817f23a",
       "value": "<h5>Message</h5>"
      }
     },
     "e85f4f56cef743778650a9f3ae6463c5": {
      "model_module": "@jupyter-widgets/controls",
      "model_module_version": "1.5.0",
      "model_name": "HTMLModel",
      "state": {
       "layout": "IPY_MODEL_8146c6a03aaa4f4597d1aa964a488683",
       "style": "IPY_MODEL_a761677ca9044a9299db78ddb59f9ffe",
       "value": "<h5>Status</h5>"
      }
     },
     "edbb20c3cd6e4c49bc852aeb22110055": {
      "model_module": "@jupyter-widgets/controls",
      "model_module_version": "1.5.0",
      "model_name": "DescriptionStyleModel",
      "state": {
       "description_width": ""
      }
     },
     "efec7c0b43c34140a091a48c08fa4a37": {
      "model_module": "@jupyter-widgets/controls",
      "model_module_version": "1.5.0",
      "model_name": "HTMLModel",
      "state": {
       "layout": "IPY_MODEL_afa7757a406240568315e0deae611d3e",
       "style": "IPY_MODEL_10efc83c78dd4d3a81b9aca0552e3acc",
       "value": "<h5>Queue</h5>"
      }
     },
     "f4efaa1f1bd5421f826721c18e19e4dd": {
      "model_module": "@jupyter-widgets/base",
      "model_module_version": "1.2.0",
      "model_name": "LayoutModel",
      "state": {
       "margin": "0px 0px 10px 0px"
      }
     }
    },
    "version_major": 2,
    "version_minor": 0
   }
  }
 },
 "nbformat": 4,
 "nbformat_minor": 5
}
