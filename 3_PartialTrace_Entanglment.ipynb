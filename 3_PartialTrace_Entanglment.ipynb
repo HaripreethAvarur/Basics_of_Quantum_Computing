{
 "cells": [
  {
   "cell_type": "markdown",
   "id": "d3ee6c06-6fc0-4863-9bb4-c6b4f3ffdf72",
   "metadata": {},
   "source": [
    "Write a program to find the partial trace and find the entangalment entropy of the 2nd Bell State"
   ]
  },
  {
   "cell_type": "code",
   "execution_count": 1,
   "id": "5a25c495-6106-4d83-8efc-7e800a5c1f5c",
   "metadata": {},
   "outputs": [
    {
     "name": "stderr",
     "output_type": "stream",
     "text": [
      "<frozen importlib._bootstrap>:219: RuntimeWarning: scipy._lib.messagestream.MessageStream size changed, may indicate binary incompatibility. Expected 56 from C header, got 64 from PyObject\n"
     ]
    }
   ],
   "source": [
    "import numpy as np\n",
    "\n",
    "# Importing standard Qiskit libraries\n",
    "from qiskit import QuantumCircuit, transpile, Aer, IBMQ, QuantumRegister, ClassicalRegister, QuantumCircuit\n",
    "from qiskit.tools.jupyter import *\n",
    "from qiskit.visualization import *\n",
    "from ibm_quantum_widgets import *\n",
    "from qiskit.providers.aer import QasmSimulator\n",
    "import qiskit\n",
    "\n",
    "# Loading your IBM Quantum account(s)\n",
    "provider = IBMQ.load_account()"
   ]
  },
  {
   "cell_type": "code",
   "execution_count": 2,
   "id": "35ba1994-3110-4e9f-afbc-b616252ae931",
   "metadata": {},
   "outputs": [
    {
     "data": {
      "image/png": "[encoded data removed]",
      "text/plain": [
       "<Figure size 267.052x144.48 with 1 Axes>"
      ]
     },
     "execution_count": 2,
     "metadata": {},
     "output_type": "execute_result"
    }
   ],
   "source": [
    "q=qiskit.QuantumRegister(2, 'q')\n",
    "circuit = QuantumCircuit(q)\n",
    "circuit.x(q[0])\n",
    "circuit.h(q[0])\n",
    "circuit.cx(q[0],q[1])\n",
    "circuit.draw()"
   ]
  },
  {
   "cell_type": "code",
   "execution_count": 3,
   "id": "4934a866-30df-4450-9fd7-66d01e9ef400",
   "metadata": {},
   "outputs": [
    {
     "data": {
      "text/latex": [
       "$$\n",
       "\\rho =\n",
       "\\begin{bmatrix}\n",
       "\\tfrac{1}{2} & 0 & 0 & -\\tfrac{1}{2}  \\\\\n",
       " 0 & 0 & 0 & 0  \\\\\n",
       " 0 & 0 & 0 & 0  \\\\\n",
       " -\\tfrac{1}{2} & 0 & 0 & \\tfrac{1}{2}  \\\\\n",
       " \\end{bmatrix}\n",
       "$$"
      ],
      "text/plain": [
       "<IPython.core.display.Latex object>"
      ]
     },
     "execution_count": 3,
     "metadata": {},
     "output_type": "execute_result"
    }
   ],
   "source": [
    "import qiskit.quantum_info as qi\n",
    "rho=qi.DensityMatrix.from_instruction(circuit)\n",
    "rho.draw('latex', prefix='\\\\rho =')"
   ]
  },
  {
   "cell_type": "code",
   "execution_count": 4,
   "id": "1f3d7a31-0aa3-43d3-811d-a5ed423392de",
   "metadata": {},
   "outputs": [
    {
     "data": {
      "text/latex": [
       "$$\n",
       "Partial Trace of \\rho =\n",
       "\\begin{bmatrix}\n",
       "\\tfrac{1}{2} & 0  \\\\\n",
       " 0 & \\tfrac{1}{2}  \\\\\n",
       " \\end{bmatrix}\n",
       "$$"
      ],
      "text/plain": [
       "<IPython.core.display.Latex object>"
      ]
     },
     "execution_count": 4,
     "metadata": {},
     "output_type": "execute_result"
    }
   ],
   "source": [
    "pt=qi.partial_trace(rho,[0])\n",
    "pt.draw('latex', prefix='Partial Trace of \\\\rho =')\n",
    "#partial trace gives the reduced density matrix"
   ]
  },
  {
   "cell_type": "code",
   "execution_count": 5,
   "id": "7330c236-34d0-4cde-9465-966ae06548af",
   "metadata": {},
   "outputs": [
    {
     "name": "stdout",
     "output_type": "stream",
     "text": [
      "Entanglement Entropy = 1.0\n"
     ]
    }
   ],
   "source": [
    "entanglment_entropy=qi.entropy(pt)\n",
    "print(\"Entanglement Entropy =\",entanglment_entropy)"
   ]
  },
  {
   "cell_type": "code",
   "execution_count": null,
   "id": "949f85e0-9c0f-4093-a123-a9e0ad1418c3",
   "metadata": {},
   "outputs": [],
   "source": []
  }
 ],
 "metadata": {
  "kernelspec": {
   "display_name": "Python 3 (ipykernel)",
   "language": "python",
   "name": "python3"
  },
  "language_info": {
   "codemirror_mode": {
    "name": "ipython",
    "version": 3
   },
   "file_extension": ".py",
   "mimetype": "text/x-python",
   "name": "python",
   "nbconvert_exporter": "python",
   "pygments_lexer": "ipython3",
   "version": "3.8.13"
  },
  "widgets": {
   "application/vnd.jupyter.widget-state+json": {
    "state": {},
    "version_major": 2,
    "version_minor": 0
   }
  }
 },
 "nbformat": 4,
 "nbformat_minor": 5
}
