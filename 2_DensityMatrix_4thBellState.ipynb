{
 "cells": [
  {
   "cell_type": "markdown",
   "id": "a62aaab4-fc48-4535-bc31-ed163eb7d48b",
   "metadata": {},
   "source": [
    "Write a program to find the density matrix of the state (using qiskit.qunatum_info) 1/rt2(|01>-|10>) and display the matrix (4th Bell State)"
   ]
  },
  {
   "cell_type": "code",
   "execution_count": 1,
   "id": "b13b47f3-9301-4efa-9859-ab836eda833c",
   "metadata": {},
   "outputs": [
    {
     "name": "stderr",
     "output_type": "stream",
     "text": [
      "<frozen importlib._bootstrap>:219: RuntimeWarning: scipy._lib.messagestream.MessageStream size changed, may indicate binary incompatibility. Expected 56 from C header, got 64 from PyObject\n"
     ]
    }
   ],
   "source": [
    "import numpy as np\n",
    "\n",
    "# Importing standard Qiskit libraries\n",
    "from qiskit import QuantumCircuit, transpile, Aer, IBMQ, QuantumRegister, ClassicalRegister, QuantumCircuit\n",
    "from qiskit.tools.jupyter import *\n",
    "from qiskit.visualization import *\n",
    "from ibm_quantum_widgets import *\n",
    "from qiskit.providers.aer import QasmSimulator\n",
    "import qiskit\n",
    "\n",
    "# Loading your IBM Quantum account(s)\n",
    "provider = IBMQ.load_account()"
   ]
  },
  {
   "cell_type": "code",
   "execution_count": 2,
   "id": "87c385a1-cb70-417d-b0c3-4f274067ee54",
   "metadata": {},
   "outputs": [
    {
     "data": {
      "image/png": "[encoded data removed]",
      "text/plain": [
       "<Figure size 267.052x144.48 with 1 Axes>"
      ]
     },
     "execution_count": 2,
     "metadata": {},
     "output_type": "execute_result"
    }
   ],
   "source": [
    "backend=provider.get_backend('ibmq_qasm_simulator')\n",
    "\n",
    "q = qiskit.QuantumRegister(2, 'q')\n",
    "\n",
    "circuit = qiskit.QuantumCircuit(q)\n",
    "\n",
    "circuit.x(q[1]) #Pauli-X gate\n",
    "circuit.h(q[0]) #Hadamard gate\n",
    "circuit.z(q[0]) #Pauli-Z gate\n",
    "circuit.z(q[1]) #Pauli-Z gate\n",
    "circuit.cx(q[0],q[1]) #CNOT gate\n",
    "\n",
    "\n",
    "circuit.draw()"
   ]
  },
  {
   "cell_type": "code",
   "execution_count": 3,
   "id": "c9a22579-7258-4929-986e-4868fc5ecfa2",
   "metadata": {},
   "outputs": [
    {
     "data": {
      "text/latex": [
       "$$\n",
       "\\rho =\n",
       "\\begin{bmatrix}\n",
       "0 & 0 & 0 & 0  \\\\\n",
       " 0 & \\tfrac{1}{2} & -\\tfrac{1}{2} & 0  \\\\\n",
       " 0 & -\\tfrac{1}{2} & \\tfrac{1}{2} & 0  \\\\\n",
       " 0 & 0 & 0 & 0  \\\\\n",
       " \\end{bmatrix}\n",
       "$$"
      ],
      "text/plain": [
       "<IPython.core.display.Latex object>"
      ]
     },
     "execution_count": 3,
     "metadata": {},
     "output_type": "execute_result"
    }
   ],
   "source": [
    "import qiskit.quantum_info as qi\n",
    "rho = qi.DensityMatrix.from_instruction(circuit)\n",
    "rho.draw('latex', prefix='\\\\rho =')"
   ]
  },
  {
   "cell_type": "code",
   "execution_count": null,
   "id": "78e90165-2e49-41fc-92cd-f347c7bc28e8",
   "metadata": {},
   "outputs": [],
   "source": []
  }
 ],
 "metadata": {
  "kernelspec": {
   "display_name": "Python 3 (ipykernel)",
   "language": "python",
   "name": "python3"
  },
  "language_info": {
   "codemirror_mode": {
    "name": "ipython",
    "version": 3
   },
   "file_extension": ".py",
   "mimetype": "text/x-python",
   "name": "python",
   "nbconvert_exporter": "python",
   "pygments_lexer": "ipython3",
   "version": "3.8.13"
  },
  "widgets": {
   "application/vnd.jupyter.widget-state+json": {
    "state": {},
    "version_major": 2,
    "version_minor": 0
   }
  }
 },
 "nbformat": 4,
 "nbformat_minor": 5
}
